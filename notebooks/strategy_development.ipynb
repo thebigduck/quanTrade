{
 "cells": [
  {
   "cell_type": "code",
   "execution_count": null,
   "metadata": {},
   "outputs": [],
   "source": [
    "# Import necessary libraries\n",
    "import yfinance as yf\n",
    "import backtrader as bt\n",
    "import matplotlib.pyplot as plt\n",
    "\n",
    "\n"
   ]
  },
  {
   "cell_type": "code",
   "execution_count": null,
   "metadata": {},
   "outputs": [],
   "source": [
    "# Fetch historical data\n",
    "data = yf.download('AAPL', start='2020-01-01', end='2021-01-01')"
   ]
  },
  {
   "cell_type": "code",
   "execution_count": null,
   "metadata": {},
   "outputs": [],
   "source": [
    "# Define SMA Crossover Strategy\n",
    "class SmaCross(bt.Strategy):\n",
    "    params = dict(period_short=10, period_long=30)\n",
    "\n",
    "    def __init__(self):\n",
    "        sma_short = bt.ind.SMA(period=self.p.period_short)\n",
    "        sma_long = bt.ind.SMA(period=self.p.period_long)\n",
    "        self.crossover = bt.ind.CrossOver(sma_short, sma_long)\n",
    "\n",
    "    def next(self):\n",
    "        if not self.position:\n",
    "            if self.crossover > 0:\n",
    "                self.buy()\n",
    "        elif self.crossover < 0:\n",
    "            self.sell()"
   ]
  },
  {
   "cell_type": "code",
   "execution_count": null,
   "metadata": {},
   "outputs": [],
   "source": [
    "# Run backtest\n",
    "cerebro = bt.Cerebro()\n",
    "cerebro.addstrategy(SmaCross)\n",
    "data_feed = bt.feeds.PandasData(dataname=data)\n",
    "cerebro.adddata(data_feed)\n",
    "cerebro.run()\n",
    "cerebro.plot()"
   ]
  }
 ],
 "metadata": {
  "language_info": {
   "name": "python"
  }
 },
 "nbformat": 4,
 "nbformat_minor": 2
}
